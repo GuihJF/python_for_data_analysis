{
  "nbformat": 4,
  "nbformat_minor": 0,
  "metadata": {
    "colab": {
      "provenance": [],
      "authorship_tag": "ABX9TyO2j3VMANoh8GXx+5bPpQeI",
      "include_colab_link": true
    },
    "kernelspec": {
      "name": "python3",
      "display_name": "Python 3"
    },
    "language_info": {
      "name": "python"
    }
  },
  "cells": [
    {
      "cell_type": "markdown",
      "metadata": {
        "id": "view-in-github",
        "colab_type": "text"
      },
      "source": [
        "<a href=\"https://colab.research.google.com/github/GuihJF/python_for_data_analysis/blob/Python-Data-Test/Data_Test_Python_for_Data.ipynb\" target=\"_parent\"><img src=\"https://colab.research.google.com/assets/colab-badge.svg\" alt=\"Open In Colab\"/></a>"
      ]
    },
    {
      "cell_type": "code",
      "execution_count": null,
      "metadata": {
        "id": "wAtisMJcG-Fn"
      },
      "outputs": [],
      "source": [
        "# Exploratory Python Script – Data Analysis Journey\n",
        "# ----------------------------------------------------\n",
        "# Purpose: This file was used to test and explore the dataset incrementally.\n",
        "# It helped validate calculations, debug logic, and build confidence prior to developing the final report.\n",
        "# This work highlights my hands-on approach when analyzing real-world data.\n",
        "\n",
        "# Author Information:\n",
        "name = \"Guilherme\"\n",
        "age = 25\n",
        "country = \"Brazil\"\n",
        "current_role = \"Service Desk Specialist – Global L1 Support\"\n",
        "aspiration = \"Data Analyst / Data Engineer\"\n",
        "skills = [\"Python\", \"Excel\", \"SQL\", \"Power BI\", \"Technical Support\"]\n",
        "\n",
        "# Project Overview:\n",
        "project_title = \"Python for Data: From Scratch to Complete Analysis\"\n",
        "project_goal = (\n",
        "    \"Apply core Python skills to read, clean, and analyze public datasets. \"\n",
        "    \"This test file documents my iterative process—experimentation, debugging, and logic validation—leading up to final insights.\"\n",
        ")"
      ]
    },
    {
      "cell_type": "code",
      "source": [
        "# Google Drive Connection:\n",
        "from google.colab import drive\n",
        "drive.mount('/content/drive')\n",
        "\n",
        "# File Address:\n",
        "caminho_dados = '/content/drive/My Drive/AD/2023_Viagem.csv'"
      ],
      "metadata": {
        "id": "3ZayV-ncH9bf"
      },
      "execution_count": null,
      "outputs": []
    },
    {
      "cell_type": "code",
      "source": [
        "# Pandas to data analisys:\n",
        "import pandas as pd\n",
        "import matplotlib.pyplot as plt\n",
        "\n",
        "# Reading the file into a variable / # encoding format definition / # Delimiter definition ';'\n",
        "df_viagens = pd.read_csv(caminho_dados, encoding='windows-1252', delimiter=';')\n",
        "\n",
        "# Defining no columns limit:\n",
        "pd.set_option('display.max_columns', None)"
      ],
      "metadata": {
        "id": "Cq4FFzi_KYUd"
      },
      "execution_count": null,
      "outputs": []
    }
  ]
}