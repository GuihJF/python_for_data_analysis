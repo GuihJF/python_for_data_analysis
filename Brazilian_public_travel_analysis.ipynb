{
  "nbformat": 4,
  "nbformat_minor": 0,
  "metadata": {
    "colab": {
      "provenance": [],
      "authorship_tag": "ABX9TyN/iU6FGeY1xvFXkrIsHcfp",
      "include_colab_link": true
    },
    "kernelspec": {
      "name": "python3",
      "display_name": "Python 3"
    },
    "language_info": {
      "name": "python"
    }
  },
  "cells": [
    {
      "cell_type": "markdown",
      "metadata": {
        "id": "view-in-github",
        "colab_type": "text"
      },
      "source": [
        "<a href=\"https://colab.research.google.com/github/GuihJF/python_for_data_analysis/blob/main/Brazilian_public_travel_analysis.ipynb\" target=\"_parent\"><img src=\"https://colab.research.google.com/assets/colab-badge.svg\" alt=\"Open In Colab\"/></a>"
      ]
    },
    {
      "cell_type": "code",
      "execution_count": 8,
      "metadata": {
        "id": "72IC3SWOvNm3"
      },
      "outputs": [],
      "source": [
        "# Project Introduction:\n",
        "# Real data on Brazilian public travel expenses by job position.\n",
        "\n",
        "# Author Details:\n",
        "name = \"Guilherme\"\n",
        "age = 25\n",
        "country = \"Brazil\"\n",
        "current_role = \"Service Desk Specialist – Global L1 Support\"\n",
        "aspiration = \"Data Analyst / Data Engineer\"\n",
        "skills = [\"Python\", \"Excel\", \"SQL\", \"Power BI\", \"Tech Support\"]\n",
        "\n",
        "# Project Focus:\n",
        "project_title = \"Python for Data: From Scratch to Complete Analysis\"\n",
        "project_goal = (\n",
        "    \"Applying practical Python skills to read, clean, analyze, and interpret data. \"\n",
        "    \"This notebook demonstrates my ability to work with real-world datasets using essential data analysis tools and functions.\"\n",
        ")"
      ]
    },
    {
      "cell_type": "code",
      "source": [
        "import pandas as pd\n",
        "import re\n",
        "import locale\n",
        "from openpyxl.cell.cell import ILLEGAL_CHARACTERS_RE\n",
        "\n",
        "from google.colab import drive\n",
        "drive.mount('/content/drive')\n",
        "\n",
        "# Display all columns and format floats\n",
        "pd.set_option('display.max_columns', None)\n",
        "pd.set_option('display.float_format', '{:.2f}'.format)\n",
        "\n",
        "# Load raw data\n",
        "year = 2023\n",
        "data_path = f'/content/drive/MyDrive/AD/{year}_Viagem.csv'\n",
        "df = pd.read_csv(data_path, sep=';', encoding='latin1')\n",
        "\n",
        "# Remove illegal Excel characters\n",
        "def clean_text(text):\n",
        "    if isinstance(text, str):\n",
        "        return ILLEGAL_CHARACTERS_RE.sub(\"\", text)\n",
        "    return text\n",
        "\n",
        "df_clean = df.applymap(clean_text)\n",
        "\n",
        "# Output paths\n",
        "output_table_path = f'/content/drive/MyDrive/AD/output/table_{year}.xlsx'\n",
        "output_chart_path = f'/content/drive/MyDrive/AD/output/chart_{year}.png'\n",
        "\n",
        "# Save cleaned table to Excel\n",
        "df_clean.to_excel(output_table_path, index=False)\n",
        "\n",
        "# Show texts that were altered\n",
        "df_diff = df[df.applymap(lambda x: clean_text(x) if isinstance(x, str) else x) != df]\n",
        "print(df_diff)"
      ],
      "metadata": {
        "colab": {
          "base_uri": "https://localhost:8080/"
        },
        "id": "EL8n4xSmkzRT",
        "outputId": "d49d4806-cc9b-463d-95c0-498ebecc24c7"
      },
      "execution_count": 7,
      "outputs": [
        {
          "metadata": {
            "tags": null
          },
          "name": "stdout",
          "output_type": "stream",
          "text": [
            "Mounted at /content/drive\n"
          ]
        },
        {
          "output_type": "stream",
          "name": "stderr",
          "text": [
            "/tmp/ipython-input-7-1895300887.py:24: FutureWarning: DataFrame.applymap has been deprecated. Use DataFrame.map instead.\n",
            "  df_clean = df.applymap(clean_text)\n",
            "/tmp/ipython-input-7-1895300887.py:34: FutureWarning: DataFrame.applymap has been deprecated. Use DataFrame.map instead.\n",
            "  df_diff = df[df.applymap(lambda x: clean_text(x) if isinstance(x, str) else x) != df]\n"
          ]
        },
        {
          "output_type": "stream",
          "name": "stdout",
          "text": [
            "        Identificador do processo de viagem Número da Proposta (PCDP)  \\\n",
            "0                                       NaN                       NaN   \n",
            "1                                       NaN                       NaN   \n",
            "2                                       NaN                       NaN   \n",
            "3                                       NaN                       NaN   \n",
            "4                                       NaN                       NaN   \n",
            "...                                     ...                       ...   \n",
            "831006                                  NaN                       NaN   \n",
            "831007                                  NaN                       NaN   \n",
            "831008                                  NaN                       NaN   \n",
            "831009                                  NaN                       NaN   \n",
            "831010                                  NaN                       NaN   \n",
            "\n",
            "       Situação Viagem Urgente Justificativa Urgência Viagem  \\\n",
            "0           NaN            NaN                           NaN   \n",
            "1           NaN            NaN                           NaN   \n",
            "2           NaN            NaN                           NaN   \n",
            "3           NaN            NaN                           NaN   \n",
            "4           NaN            NaN                           NaN   \n",
            "...         ...            ...                           ...   \n",
            "831006      NaN            NaN                           NaN   \n",
            "831007      NaN            NaN                           NaN   \n",
            "831008      NaN            NaN                           NaN   \n",
            "831009      NaN            NaN                           NaN   \n",
            "831010      NaN            NaN                           NaN   \n",
            "\n",
            "        Código do órgão superior Nome do órgão superior  \\\n",
            "0                            NaN                    NaN   \n",
            "1                            NaN                    NaN   \n",
            "2                            NaN                    NaN   \n",
            "3                            NaN                    NaN   \n",
            "4                            NaN                    NaN   \n",
            "...                          ...                    ...   \n",
            "831006                       NaN                    NaN   \n",
            "831007                       NaN                    NaN   \n",
            "831008                       NaN                    NaN   \n",
            "831009                       NaN                    NaN   \n",
            "831010                       NaN                    NaN   \n",
            "\n",
            "        Código órgão solicitante Nome órgão solicitante CPF viajante Nome  \\\n",
            "0                            NaN                    NaN          NaN  NaN   \n",
            "1                            NaN                    NaN          NaN  NaN   \n",
            "2                            NaN                    NaN          NaN  NaN   \n",
            "3                            NaN                    NaN          NaN  NaN   \n",
            "4                            NaN                    NaN          NaN  NaN   \n",
            "...                          ...                    ...          ...  ...   \n",
            "831006                       NaN                    NaN          NaN  NaN   \n",
            "831007                       NaN                    NaN          NaN  NaN   \n",
            "831008                       NaN                    NaN          NaN  NaN   \n",
            "831009                       NaN                    NaN          NaN  NaN   \n",
            "831010                       NaN                    NaN          NaN  NaN   \n",
            "\n",
            "       Cargo Função Descrição Função Período - Data de início  \\\n",
            "0        NaN    NaN              NaN                      NaN   \n",
            "1        NaN    NaN              NaN                      NaN   \n",
            "2        NaN    NaN              NaN                      NaN   \n",
            "3        NaN    NaN              NaN                      NaN   \n",
            "4        NaN    NaN              NaN                      NaN   \n",
            "...      ...    ...              ...                      ...   \n",
            "831006   NaN    NaN              NaN                      NaN   \n",
            "831007   NaN    NaN              NaN                      NaN   \n",
            "831008   NaN    NaN              NaN                      NaN   \n",
            "831009   NaN    NaN              NaN                      NaN   \n",
            "831010   NaN    NaN              NaN                      NaN   \n",
            "\n",
            "       Período - Data de fim Destinos Motivo Valor diárias Valor passagens  \\\n",
            "0                        NaN      NaN    NaN           NaN             NaN   \n",
            "1                        NaN      NaN    NaN           NaN             NaN   \n",
            "2                        NaN      NaN    NaN           NaN             NaN   \n",
            "3                        NaN      NaN    NaN           NaN             NaN   \n",
            "4                        NaN      NaN    NaN           NaN             NaN   \n",
            "...                      ...      ...    ...           ...             ...   \n",
            "831006                   NaN      NaN    NaN           NaN             NaN   \n",
            "831007                   NaN      NaN    NaN           NaN             NaN   \n",
            "831008                   NaN      NaN    NaN           NaN             NaN   \n",
            "831009                   NaN      NaN    NaN           NaN             NaN   \n",
            "831010                   NaN      NaN    NaN           NaN             NaN   \n",
            "\n",
            "       Valor devolução Valor outros gastos  \n",
            "0                  NaN                 NaN  \n",
            "1                  NaN                 NaN  \n",
            "2                  NaN                 NaN  \n",
            "3                  NaN                 NaN  \n",
            "4                  NaN                 NaN  \n",
            "...                ...                 ...  \n",
            "831006             NaN                 NaN  \n",
            "831007             NaN                 NaN  \n",
            "831008             NaN                 NaN  \n",
            "831009             NaN                 NaN  \n",
            "831010             NaN                 NaN  \n",
            "\n",
            "[831011 rows x 22 columns]\n"
          ]
        }
      ]
    }
  ]
}