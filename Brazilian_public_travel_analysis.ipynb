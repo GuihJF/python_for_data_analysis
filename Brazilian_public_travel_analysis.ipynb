{
  "nbformat": 4,
  "nbformat_minor": 0,
  "metadata": {
    "colab": {
      "provenance": [],
      "authorship_tag": "ABX9TyPJ+FNt6EKC6V53ALR0KP/E",
      "include_colab_link": true
    },
    "kernelspec": {
      "name": "python3",
      "display_name": "Python 3"
    },
    "language_info": {
      "name": "python"
    }
  },
  "cells": [
    {
      "cell_type": "markdown",
      "metadata": {
        "id": "view-in-github",
        "colab_type": "text"
      },
      "source": [
        "<a href=\"https://colab.research.google.com/github/GuihJF/python_for_data_analysis/blob/main/Brazilian_public_travel_analysis.ipynb\" target=\"_parent\"><img src=\"https://colab.research.google.com/assets/colab-badge.svg\" alt=\"Open In Colab\"/></a>"
      ]
    },
    {
      "cell_type": "code",
      "execution_count": null,
      "metadata": {
        "id": "72IC3SWOvNm3"
      },
      "outputs": [],
      "source": [
        "# Project Introduction:\n",
        "# Real data on Brazilian public travel expenses by job position.\n",
        "\n",
        "# Author Details:\n",
        "name = \"Guilherme\"\n",
        "age = 25\n",
        "country = \"Brazil\"\n",
        "current_role = \"Service Desk Specialist – Global L1 Support\"\n",
        "aspiration = \"Data Analyst / Data Engineer\"\n",
        "skills = [\"Python\", \"Excel\", \"SQL\", \"Power BI\", \"Tech Support\"]\n",
        "\n",
        "# Project Focus:\n",
        "project_title = \"Python for Data: From Scratch to Complete Analysis\"\n",
        "project_goal = (\n",
        "    \"Applying practical Python skills to read, clean, analyze, and interpret data. \"\n",
        "    \"This notebook demonstrates my ability to work with real-world datasets using essential data analysis tools and functions.\"\n",
        ")"
      ]
    }
  ]
}